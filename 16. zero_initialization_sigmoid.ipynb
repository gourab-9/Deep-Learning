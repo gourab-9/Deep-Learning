{
 "cells": [
  {
   "cell_type": "code",
   "execution_count": 1,
   "metadata": {
    "id": "3lZjpp6Rz0_d"
   },
   "outputs": [],
   "source": [
    "import numpy as np\n",
    "import pandas as pd\n",
    "import matplotlib.pyplot as plt"
   ]
  },
  {
   "cell_type": "code",
   "execution_count": 2,
   "metadata": {
    "id": "ilc7LzPp0BcC"
   },
   "outputs": [],
   "source": [
    "column_names = ['X', 'Y', 'class']\n",
    "\n",
    "# Read the CSV file and assign custom column names\n",
    "df = pd.read_csv('/content/ushape.csv', names=column_names, header=None)"
   ]
  },
  {
   "cell_type": "code",
   "execution_count": 3,
   "metadata": {
    "colab": {
     "base_uri": "https://localhost:8080/",
     "height": 206
    },
    "id": "Qg55zt-g0Gdo",
    "outputId": "59c13d6c-65c6-4696-819a-43b92b01dbc8"
   },
   "outputs": [
    {
     "data": {
      "application/vnd.google.colaboratory.intrinsic+json": {
       "summary": "{\n  \"name\": \"df\",\n  \"rows\": 100,\n  \"fields\": [\n    {\n      \"column\": \"X\",\n      \"properties\": {\n        \"dtype\": \"number\",\n        \"std\": 0.8910441577790994,\n        \"min\": -1.318500344394381,\n        \"max\": 2.181371683049025,\n        \"num_unique_values\": 100,\n        \"samples\": [\n          -0.8753936535485005,\n          -0.5134668595395712,\n          0.2457559354815964\n        ],\n        \"semantic_type\": \"\",\n        \"description\": \"\"\n      }\n    },\n    {\n      \"column\": \"Y\",\n      \"properties\": {\n        \"dtype\": \"number\",\n        \"std\": 0.5928850846536865,\n        \"min\": -1.0357020680498332,\n        \"max\": 1.5718993127141032,\n        \"num_unique_values\": 100,\n        \"samples\": [\n          0.5054342299267167,\n          0.6786909545326081,\n          0.8496383011786973\n        ],\n        \"semantic_type\": \"\",\n        \"description\": \"\"\n      }\n    },\n    {\n      \"column\": \"class\",\n      \"properties\": {\n        \"dtype\": \"number\",\n        \"std\": 0.502518907629606,\n        \"min\": 0.0,\n        \"max\": 1.0,\n        \"num_unique_values\": 2,\n        \"samples\": [\n          1.0,\n          0.0\n        ],\n        \"semantic_type\": \"\",\n        \"description\": \"\"\n      }\n    }\n  ]\n}",
       "type": "dataframe",
       "variable_name": "df"
      },
      "text/html": [
       "\n",
       "  <div id=\"df-ceb47964-ac22-4250-8efe-b77b7e5f58a4\" class=\"colab-df-container\">\n",
       "    <div>\n",
       "<style scoped>\n",
       "    .dataframe tbody tr th:only-of-type {\n",
       "        vertical-align: middle;\n",
       "    }\n",
       "\n",
       "    .dataframe tbody tr th {\n",
       "        vertical-align: top;\n",
       "    }\n",
       "\n",
       "    .dataframe thead th {\n",
       "        text-align: right;\n",
       "    }\n",
       "</style>\n",
       "<table border=\"1\" class=\"dataframe\">\n",
       "  <thead>\n",
       "    <tr style=\"text-align: right;\">\n",
       "      <th></th>\n",
       "      <th>X</th>\n",
       "      <th>Y</th>\n",
       "      <th>class</th>\n",
       "    </tr>\n",
       "  </thead>\n",
       "  <tbody>\n",
       "    <tr>\n",
       "      <th>0</th>\n",
       "      <td>0.031595</td>\n",
       "      <td>0.986988</td>\n",
       "      <td>0.0</td>\n",
       "    </tr>\n",
       "    <tr>\n",
       "      <th>1</th>\n",
       "      <td>2.115098</td>\n",
       "      <td>-0.046244</td>\n",
       "      <td>1.0</td>\n",
       "    </tr>\n",
       "    <tr>\n",
       "      <th>2</th>\n",
       "      <td>0.882490</td>\n",
       "      <td>-0.075756</td>\n",
       "      <td>0.0</td>\n",
       "    </tr>\n",
       "    <tr>\n",
       "      <th>3</th>\n",
       "      <td>-0.055144</td>\n",
       "      <td>-0.037332</td>\n",
       "      <td>1.0</td>\n",
       "    </tr>\n",
       "    <tr>\n",
       "      <th>4</th>\n",
       "      <td>0.829545</td>\n",
       "      <td>-0.539321</td>\n",
       "      <td>1.0</td>\n",
       "    </tr>\n",
       "  </tbody>\n",
       "</table>\n",
       "</div>\n",
       "    <div class=\"colab-df-buttons\">\n",
       "\n",
       "  <div class=\"colab-df-container\">\n",
       "    <button class=\"colab-df-convert\" onclick=\"convertToInteractive('df-ceb47964-ac22-4250-8efe-b77b7e5f58a4')\"\n",
       "            title=\"Convert this dataframe to an interactive table.\"\n",
       "            style=\"display:none;\">\n",
       "\n",
       "  <svg xmlns=\"http://www.w3.org/2000/svg\" height=\"24px\" viewBox=\"0 -960 960 960\">\n",
       "    <path d=\"M120-120v-720h720v720H120Zm60-500h600v-160H180v160Zm220 220h160v-160H400v160Zm0 220h160v-160H400v160ZM180-400h160v-160H180v160Zm440 0h160v-160H620v160ZM180-180h160v-160H180v160Zm440 0h160v-160H620v160Z\"/>\n",
       "  </svg>\n",
       "    </button>\n",
       "\n",
       "  <style>\n",
       "    .colab-df-container {\n",
       "      display:flex;\n",
       "      gap: 12px;\n",
       "    }\n",
       "\n",
       "    .colab-df-convert {\n",
       "      background-color: #E8F0FE;\n",
       "      border: none;\n",
       "      border-radius: 50%;\n",
       "      cursor: pointer;\n",
       "      display: none;\n",
       "      fill: #1967D2;\n",
       "      height: 32px;\n",
       "      padding: 0 0 0 0;\n",
       "      width: 32px;\n",
       "    }\n",
       "\n",
       "    .colab-df-convert:hover {\n",
       "      background-color: #E2EBFA;\n",
       "      box-shadow: 0px 1px 2px rgba(60, 64, 67, 0.3), 0px 1px 3px 1px rgba(60, 64, 67, 0.15);\n",
       "      fill: #174EA6;\n",
       "    }\n",
       "\n",
       "    .colab-df-buttons div {\n",
       "      margin-bottom: 4px;\n",
       "    }\n",
       "\n",
       "    [theme=dark] .colab-df-convert {\n",
       "      background-color: #3B4455;\n",
       "      fill: #D2E3FC;\n",
       "    }\n",
       "\n",
       "    [theme=dark] .colab-df-convert:hover {\n",
       "      background-color: #434B5C;\n",
       "      box-shadow: 0px 1px 3px 1px rgba(0, 0, 0, 0.15);\n",
       "      filter: drop-shadow(0px 1px 2px rgba(0, 0, 0, 0.3));\n",
       "      fill: #FFFFFF;\n",
       "    }\n",
       "  </style>\n",
       "\n",
       "    <script>\n",
       "      const buttonEl =\n",
       "        document.querySelector('#df-ceb47964-ac22-4250-8efe-b77b7e5f58a4 button.colab-df-convert');\n",
       "      buttonEl.style.display =\n",
       "        google.colab.kernel.accessAllowed ? 'block' : 'none';\n",
       "\n",
       "      async function convertToInteractive(key) {\n",
       "        const element = document.querySelector('#df-ceb47964-ac22-4250-8efe-b77b7e5f58a4');\n",
       "        const dataTable =\n",
       "          await google.colab.kernel.invokeFunction('convertToInteractive',\n",
       "                                                    [key], {});\n",
       "        if (!dataTable) return;\n",
       "\n",
       "        const docLinkHtml = 'Like what you see? Visit the ' +\n",
       "          '<a target=\"_blank\" href=https://colab.research.google.com/notebooks/data_table.ipynb>data table notebook</a>'\n",
       "          + ' to learn more about interactive tables.';\n",
       "        element.innerHTML = '';\n",
       "        dataTable['output_type'] = 'display_data';\n",
       "        await google.colab.output.renderOutput(dataTable, element);\n",
       "        const docLink = document.createElement('div');\n",
       "        docLink.innerHTML = docLinkHtml;\n",
       "        element.appendChild(docLink);\n",
       "      }\n",
       "    </script>\n",
       "  </div>\n",
       "\n",
       "\n",
       "<div id=\"df-46ef0762-6ac2-48c8-8c24-352677350ea5\">\n",
       "  <button class=\"colab-df-quickchart\" onclick=\"quickchart('df-46ef0762-6ac2-48c8-8c24-352677350ea5')\"\n",
       "            title=\"Suggest charts\"\n",
       "            style=\"display:none;\">\n",
       "\n",
       "<svg xmlns=\"http://www.w3.org/2000/svg\" height=\"24px\"viewBox=\"0 0 24 24\"\n",
       "     width=\"24px\">\n",
       "    <g>\n",
       "        <path d=\"M19 3H5c-1.1 0-2 .9-2 2v14c0 1.1.9 2 2 2h14c1.1 0 2-.9 2-2V5c0-1.1-.9-2-2-2zM9 17H7v-7h2v7zm4 0h-2V7h2v10zm4 0h-2v-4h2v4z\"/>\n",
       "    </g>\n",
       "</svg>\n",
       "  </button>\n",
       "\n",
       "<style>\n",
       "  .colab-df-quickchart {\n",
       "      --bg-color: #E8F0FE;\n",
       "      --fill-color: #1967D2;\n",
       "      --hover-bg-color: #E2EBFA;\n",
       "      --hover-fill-color: #174EA6;\n",
       "      --disabled-fill-color: #AAA;\n",
       "      --disabled-bg-color: #DDD;\n",
       "  }\n",
       "\n",
       "  [theme=dark] .colab-df-quickchart {\n",
       "      --bg-color: #3B4455;\n",
       "      --fill-color: #D2E3FC;\n",
       "      --hover-bg-color: #434B5C;\n",
       "      --hover-fill-color: #FFFFFF;\n",
       "      --disabled-bg-color: #3B4455;\n",
       "      --disabled-fill-color: #666;\n",
       "  }\n",
       "\n",
       "  .colab-df-quickchart {\n",
       "    background-color: var(--bg-color);\n",
       "    border: none;\n",
       "    border-radius: 50%;\n",
       "    cursor: pointer;\n",
       "    display: none;\n",
       "    fill: var(--fill-color);\n",
       "    height: 32px;\n",
       "    padding: 0;\n",
       "    width: 32px;\n",
       "  }\n",
       "\n",
       "  .colab-df-quickchart:hover {\n",
       "    background-color: var(--hover-bg-color);\n",
       "    box-shadow: 0 1px 2px rgba(60, 64, 67, 0.3), 0 1px 3px 1px rgba(60, 64, 67, 0.15);\n",
       "    fill: var(--button-hover-fill-color);\n",
       "  }\n",
       "\n",
       "  .colab-df-quickchart-complete:disabled,\n",
       "  .colab-df-quickchart-complete:disabled:hover {\n",
       "    background-color: var(--disabled-bg-color);\n",
       "    fill: var(--disabled-fill-color);\n",
       "    box-shadow: none;\n",
       "  }\n",
       "\n",
       "  .colab-df-spinner {\n",
       "    border: 2px solid var(--fill-color);\n",
       "    border-color: transparent;\n",
       "    border-bottom-color: var(--fill-color);\n",
       "    animation:\n",
       "      spin 1s steps(1) infinite;\n",
       "  }\n",
       "\n",
       "  @keyframes spin {\n",
       "    0% {\n",
       "      border-color: transparent;\n",
       "      border-bottom-color: var(--fill-color);\n",
       "      border-left-color: var(--fill-color);\n",
       "    }\n",
       "    20% {\n",
       "      border-color: transparent;\n",
       "      border-left-color: var(--fill-color);\n",
       "      border-top-color: var(--fill-color);\n",
       "    }\n",
       "    30% {\n",
       "      border-color: transparent;\n",
       "      border-left-color: var(--fill-color);\n",
       "      border-top-color: var(--fill-color);\n",
       "      border-right-color: var(--fill-color);\n",
       "    }\n",
       "    40% {\n",
       "      border-color: transparent;\n",
       "      border-right-color: var(--fill-color);\n",
       "      border-top-color: var(--fill-color);\n",
       "    }\n",
       "    60% {\n",
       "      border-color: transparent;\n",
       "      border-right-color: var(--fill-color);\n",
       "    }\n",
       "    80% {\n",
       "      border-color: transparent;\n",
       "      border-right-color: var(--fill-color);\n",
       "      border-bottom-color: var(--fill-color);\n",
       "    }\n",
       "    90% {\n",
       "      border-color: transparent;\n",
       "      border-bottom-color: var(--fill-color);\n",
       "    }\n",
       "  }\n",
       "</style>\n",
       "\n",
       "  <script>\n",
       "    async function quickchart(key) {\n",
       "      const quickchartButtonEl =\n",
       "        document.querySelector('#' + key + ' button');\n",
       "      quickchartButtonEl.disabled = true;  // To prevent multiple clicks.\n",
       "      quickchartButtonEl.classList.add('colab-df-spinner');\n",
       "      try {\n",
       "        const charts = await google.colab.kernel.invokeFunction(\n",
       "            'suggestCharts', [key], {});\n",
       "      } catch (error) {\n",
       "        console.error('Error during call to suggestCharts:', error);\n",
       "      }\n",
       "      quickchartButtonEl.classList.remove('colab-df-spinner');\n",
       "      quickchartButtonEl.classList.add('colab-df-quickchart-complete');\n",
       "    }\n",
       "    (() => {\n",
       "      let quickchartButtonEl =\n",
       "        document.querySelector('#df-46ef0762-6ac2-48c8-8c24-352677350ea5 button');\n",
       "      quickchartButtonEl.style.display =\n",
       "        google.colab.kernel.accessAllowed ? 'block' : 'none';\n",
       "    })();\n",
       "  </script>\n",
       "</div>\n",
       "\n",
       "    </div>\n",
       "  </div>\n"
      ],
      "text/plain": [
       "          X         Y  class\n",
       "0  0.031595  0.986988    0.0\n",
       "1  2.115098 -0.046244    1.0\n",
       "2  0.882490 -0.075756    0.0\n",
       "3 -0.055144 -0.037332    1.0\n",
       "4  0.829545 -0.539321    1.0"
      ]
     },
     "execution_count": 3,
     "metadata": {},
     "output_type": "execute_result"
    }
   ],
   "source": [
    "df.head()"
   ]
  },
  {
   "cell_type": "code",
   "execution_count": 4,
   "metadata": {
    "colab": {
     "base_uri": "https://localhost:8080/",
     "height": 447
    },
    "id": "VM34c0aF0GaN",
    "outputId": "488e2283-b21d-4ac4-e647-87233ecec53f"
   },
   "outputs": [
    {
     "data": {
      "text/plain": [
       "<matplotlib.collections.PathCollection at 0x7f6c64a46980>"
      ]
     },
     "execution_count": 4,
     "metadata": {},
     "output_type": "execute_result"
    },
    {
     "data": {
      "image/png": "[encoded data removed]",
      "text/plain": [
       "<Figure size 640x480 with 1 Axes>"
      ]
     },
     "metadata": {},
     "output_type": "display_data"
    }
   ],
   "source": [
    "plt.scatter(x = df['X'],y = df['Y'],c=df['class'])"
   ]
  },
  {
   "cell_type": "code",
   "execution_count": 5,
   "metadata": {
    "id": "N_ngO_Kz0GXs"
   },
   "outputs": [],
   "source": [
    "X = df.iloc[:,0:2].values\n",
    "y = df.iloc[:,-1].values"
   ]
  },
  {
   "cell_type": "code",
   "execution_count": 6,
   "metadata": {
    "id": "IFOj0KGX0R7Q"
   },
   "outputs": [],
   "source": [
    "import tensorflow\n",
    "from tensorflow import keras\n",
    "from keras import Sequential\n",
    "from keras.layers import Dense"
   ]
  },
  {
   "cell_type": "code",
   "execution_count": 7,
   "metadata": {
    "colab": {
     "base_uri": "https://localhost:8080/"
    },
    "id": "qxiURxr10UfC",
    "outputId": "41515bca-1270-4abb-daf4-d584279e3a28"
   },
   "outputs": [
    {
     "name": "stdout",
     "output_type": "stream",
     "text": [
      "Model: \"sequential\"\n",
      "_________________________________________________________________\n",
      " Layer (type)                Output Shape              Param #   \n",
      "=================================================================\n",
      " dense (Dense)               (None, 10)                30        \n",
      "                                                                 \n",
      " dense_1 (Dense)             (None, 1)                 11        \n",
      "                                                                 \n",
      "=================================================================\n",
      "Total params: 41 (164.00 Byte)\n",
      "Trainable params: 41 (164.00 Byte)\n",
      "Non-trainable params: 0 (0.00 Byte)\n",
      "_________________________________________________________________\n"
     ]
    }
   ],
   "source": [
    "model = Sequential()\n",
    "\n",
    "model.add(Dense(10,activation='sigmoid',input_dim=2))\n",
    "model.add(Dense(1,activation='sigmoid'))\n",
    "\n",
    "model.summary()"
   ]
  },
  {
   "cell_type": "code",
   "execution_count": 8,
   "metadata": {
    "colab": {
     "base_uri": "https://localhost:8080/"
    },
    "id": "4h-_o6J60XW_",
    "outputId": "4d458a07-2017-4c85-8745-87a27c27031a"
   },
   "outputs": [
    {
     "data": {
      "text/plain": [
       "[array([[-0.0302881 ,  0.3793611 , -0.19941932,  0.46769172, -0.11581904,\n",
       "         -0.07333195, -0.1187973 , -0.5021763 ,  0.3265335 , -0.48627633],\n",
       "        [-0.3429253 ,  0.2492578 , -0.2579952 ,  0.4570338 ,  0.11666363,\n",
       "          0.5178924 ,  0.45022172, -0.4761142 , -0.07924229,  0.07074416]],\n",
       "       dtype=float32),\n",
       " array([0., 0., 0., 0., 0., 0., 0., 0., 0., 0.], dtype=float32),\n",
       " array([[-0.5090561 ],\n",
       "        [-0.3318852 ],\n",
       "        [ 0.01864076],\n",
       "        [-0.23482144],\n",
       "        [ 0.57090515],\n",
       "        [-0.16510534],\n",
       "        [-0.4633453 ],\n",
       "        [ 0.5138764 ],\n",
       "        [-0.11062515],\n",
       "        [-0.05015731]], dtype=float32),\n",
       " array([0.], dtype=float32)]"
      ]
     },
     "execution_count": 8,
     "metadata": {},
     "output_type": "execute_result"
    }
   ],
   "source": [
    "# Set parameters to 0\n",
    "model.get_weights()"
   ]
  },
  {
   "cell_type": "code",
   "execution_count": 9,
   "metadata": {
    "id": "eF5Gv1r80ZNQ"
   },
   "outputs": [],
   "source": [
    "initial_weights = model.get_weights()"
   ]
  },
  {
   "cell_type": "code",
   "execution_count": 10,
   "metadata": {
    "id": "zDsr4-PN0bWO"
   },
   "outputs": [],
   "source": [
    "initial_weights[0] = np.zeros(model.get_weights()[0].shape)\n",
    "initial_weights[1] = np.zeros(model.get_weights()[1].shape)\n",
    "initial_weights[2] = np.zeros(model.get_weights()[2].shape)\n",
    "initial_weights[3] = np.zeros(model.get_weights()[3].shape)"
   ]
  },
  {
   "cell_type": "code",
   "execution_count": 11,
   "metadata": {
    "id": "RK_GpNRm0dOw"
   },
   "outputs": [],
   "source": [
    "model.set_weights(initial_weights)"
   ]
  },
  {
   "cell_type": "code",
   "execution_count": 12,
   "metadata": {
    "colab": {
     "base_uri": "https://localhost:8080/"
    },
    "id": "CVUJwS980fgw",
    "outputId": "784cf12e-9817-4f5a-dbb2-33353d143244"
   },
   "outputs": [
    {
     "data": {
      "text/plain": [
       "[array([[0., 0., 0., 0., 0., 0., 0., 0., 0., 0.],\n",
       "        [0., 0., 0., 0., 0., 0., 0., 0., 0., 0.]], dtype=float32),\n",
       " array([0., 0., 0., 0., 0., 0., 0., 0., 0., 0.], dtype=float32),\n",
       " array([[0.],\n",
       "        [0.],\n",
       "        [0.],\n",
       "        [0.],\n",
       "        [0.],\n",
       "        [0.],\n",
       "        [0.],\n",
       "        [0.],\n",
       "        [0.],\n",
       "        [0.]], dtype=float32),\n",
       " array([0.], dtype=float32)]"
      ]
     },
     "execution_count": 12,
     "metadata": {},
     "output_type": "execute_result"
    }
   ],
   "source": [
    "model.get_weights()"
   ]
  },
  {
   "cell_type": "code",
   "execution_count": 13,
   "metadata": {
    "id": "f17PDtbd0h52"
   },
   "outputs": [],
   "source": [
    "model.compile(loss='binary_crossentropy',optimizer='adam',metrics=['accuracy'])"
   ]
  },
  {
   "cell_type": "code",
   "execution_count": 14,
   "metadata": {
    "colab": {
     "base_uri": "https://localhost:8080/"
    },
    "id": "z1Ov9DlW0j4G",
    "outputId": "a36bb6bd-dfa4-4dcc-a052-ca9abb9e9ded"
   },
   "outputs": [
    {
     "name": "stdout",
     "output_type": "stream",
     "text": [
      "Epoch 1/100\n",
      "3/3 [==============================] - 3s 382ms/step - loss: 0.6934 - accuracy: 0.4250 - val_loss: 0.6932 - val_accuracy: 0.5000\n",
      "Epoch 2/100\n",
      "3/3 [==============================] - 0s 77ms/step - loss: 0.6932 - accuracy: 0.5000 - val_loss: 0.6931 - val_accuracy: 0.5000\n",
      "Epoch 3/100\n",
      "3/3 [==============================] - 0s 56ms/step - loss: 0.6932 - accuracy: 0.5000 - val_loss: 0.6931 - val_accuracy: 0.5000\n",
      "Epoch 4/100\n",
      "3/3 [==============================] - 0s 83ms/step - loss: 0.6932 - accuracy: 0.4250 - val_loss: 0.6931 - val_accuracy: 0.5000\n",
      "Epoch 5/100\n",
      "3/3 [==============================] - 0s 61ms/step - loss: 0.6931 - accuracy: 0.5250 - val_loss: 0.6932 - val_accuracy: 0.5000\n",
      "Epoch 6/100\n",
      "3/3 [==============================] - 0s 68ms/step - loss: 0.6931 - accuracy: 0.5000 - val_loss: 0.6932 - val_accuracy: 0.5000\n",
      "Epoch 7/100\n",
      "3/3 [==============================] - 0s 79ms/step - loss: 0.6932 - accuracy: 0.5000 - val_loss: 0.6932 - val_accuracy: 0.5000\n",
      "Epoch 8/100\n",
      "3/3 [==============================] - 0s 62ms/step - loss: 0.6932 - accuracy: 0.5000 - val_loss: 0.6932 - val_accuracy: 0.5000\n",
      "Epoch 9/100\n",
      "3/3 [==============================] - 0s 89ms/step - loss: 0.6932 - accuracy: 0.5000 - val_loss: 0.6932 - val_accuracy: 0.5000\n",
      "Epoch 10/100\n",
      "3/3 [==============================] - 0s 35ms/step - loss: 0.6932 - accuracy: 0.5000 - val_loss: 0.6932 - val_accuracy: 0.5000\n",
      "Epoch 11/100\n",
      "3/3 [==============================] - 0s 59ms/step - loss: 0.6932 - accuracy: 0.5000 - val_loss: 0.6932 - val_accuracy: 0.5000\n",
      "Epoch 12/100\n",
      "3/3 [==============================] - 0s 57ms/step - loss: 0.6932 - accuracy: 0.5000 - val_loss: 0.6931 - val_accuracy: 0.5000\n",
      "Epoch 13/100\n",
      "3/3 [==============================] - 0s 32ms/step - loss: 0.6932 - accuracy: 0.5000 - val_loss: 0.6931 - val_accuracy: 0.5000\n",
      "Epoch 14/100\n",
      "3/3 [==============================] - 0s 26ms/step - loss: 0.6931 - accuracy: 0.5000 - val_loss: 0.6931 - val_accuracy: 0.5000\n",
      "Epoch 15/100\n",
      "3/3 [==============================] - 0s 72ms/step - loss: 0.6931 - accuracy: 0.5000 - val_loss: 0.6931 - val_accuracy: 0.5000\n",
      "Epoch 16/100\n",
      "3/3 [==============================] - 0s 30ms/step - loss: 0.6931 - accuracy: 0.5000 - val_loss: 0.6931 - val_accuracy: 0.5000\n",
      "Epoch 17/100\n",
      "3/3 [==============================] - 0s 45ms/step - loss: 0.6932 - accuracy: 0.5000 - val_loss: 0.6931 - val_accuracy: 0.5000\n",
      "Epoch 18/100\n",
      "3/3 [==============================] - 0s 36ms/step - loss: 0.6931 - accuracy: 0.5000 - val_loss: 0.6931 - val_accuracy: 0.5000\n",
      "Epoch 19/100\n",
      "3/3 [==============================] - 0s 30ms/step - loss: 0.6931 - accuracy: 0.5000 - val_loss: 0.6930 - val_accuracy: 0.5000\n",
      "Epoch 20/100\n",
      "3/3 [==============================] - 0s 34ms/step - loss: 0.6931 - accuracy: 0.5000 - val_loss: 0.6930 - val_accuracy: 0.5000\n",
      "Epoch 21/100\n",
      "3/3 [==============================] - 0s 37ms/step - loss: 0.6931 - accuracy: 0.5000 - val_loss: 0.6930 - val_accuracy: 0.5000\n",
      "Epoch 22/100\n",
      "3/3 [==============================] - 0s 38ms/step - loss: 0.6931 - accuracy: 0.5000 - val_loss: 0.6930 - val_accuracy: 0.5000\n",
      "Epoch 23/100\n",
      "3/3 [==============================] - 0s 41ms/step - loss: 0.6930 - accuracy: 0.5000 - val_loss: 0.6930 - val_accuracy: 0.5000\n",
      "Epoch 24/100\n",
      "3/3 [==============================] - 0s 59ms/step - loss: 0.6930 - accuracy: 0.5000 - val_loss: 0.6930 - val_accuracy: 0.5000\n",
      "Epoch 25/100\n",
      "3/3 [==============================] - 0s 35ms/step - loss: 0.6930 - accuracy: 0.5000 - val_loss: 0.6929 - val_accuracy: 0.5000\n",
      "Epoch 26/100\n",
      "3/3 [==============================] - 0s 35ms/step - loss: 0.6930 - accuracy: 0.5000 - val_loss: 0.6929 - val_accuracy: 0.5000\n",
      "Epoch 27/100\n",
      "3/3 [==============================] - 0s 37ms/step - loss: 0.6930 - accuracy: 0.5000 - val_loss: 0.6929 - val_accuracy: 0.5000\n",
      "Epoch 28/100\n",
      "3/3 [==============================] - 0s 51ms/step - loss: 0.6930 - accuracy: 0.5000 - val_loss: 0.6929 - val_accuracy: 0.5000\n",
      "Epoch 29/100\n",
      "3/3 [==============================] - 0s 61ms/step - loss: 0.6930 - accuracy: 0.5000 - val_loss: 0.6929 - val_accuracy: 0.5000\n",
      "Epoch 30/100\n",
      "3/3 [==============================] - 0s 43ms/step - loss: 0.6930 - accuracy: 0.5000 - val_loss: 0.6928 - val_accuracy: 0.5000\n",
      "Epoch 31/100\n",
      "3/3 [==============================] - 0s 32ms/step - loss: 0.6928 - accuracy: 0.5000 - val_loss: 0.6927 - val_accuracy: 0.5000\n",
      "Epoch 32/100\n",
      "3/3 [==============================] - 0s 42ms/step - loss: 0.6929 - accuracy: 0.5000 - val_loss: 0.6926 - val_accuracy: 0.5000\n",
      "Epoch 33/100\n",
      "3/3 [==============================] - 0s 26ms/step - loss: 0.6927 - accuracy: 0.5000 - val_loss: 0.6925 - val_accuracy: 0.5000\n",
      "Epoch 34/100\n",
      "3/3 [==============================] - 0s 32ms/step - loss: 0.6927 - accuracy: 0.5000 - val_loss: 0.6925 - val_accuracy: 0.5000\n",
      "Epoch 35/100\n",
      "3/3 [==============================] - 0s 31ms/step - loss: 0.6927 - accuracy: 0.5000 - val_loss: 0.6924 - val_accuracy: 0.5000\n",
      "Epoch 36/100\n",
      "3/3 [==============================] - 0s 45ms/step - loss: 0.6927 - accuracy: 0.5000 - val_loss: 0.6923 - val_accuracy: 0.5000\n",
      "Epoch 37/100\n",
      "3/3 [==============================] - 0s 36ms/step - loss: 0.6926 - accuracy: 0.5000 - val_loss: 0.6922 - val_accuracy: 0.5000\n",
      "Epoch 38/100\n",
      "3/3 [==============================] - 0s 64ms/step - loss: 0.6925 - accuracy: 0.5000 - val_loss: 0.6922 - val_accuracy: 0.5000\n",
      "Epoch 39/100\n",
      "3/3 [==============================] - 0s 43ms/step - loss: 0.6925 - accuracy: 0.5000 - val_loss: 0.6921 - val_accuracy: 0.5000\n",
      "Epoch 40/100\n",
      "3/3 [==============================] - 0s 76ms/step - loss: 0.6924 - accuracy: 0.5000 - val_loss: 0.6920 - val_accuracy: 0.5000\n",
      "Epoch 41/100\n",
      "3/3 [==============================] - 0s 69ms/step - loss: 0.6923 - accuracy: 0.5000 - val_loss: 0.6919 - val_accuracy: 0.5000\n",
      "Epoch 42/100\n",
      "3/3 [==============================] - 0s 73ms/step - loss: 0.6923 - accuracy: 0.5000 - val_loss: 0.6918 - val_accuracy: 0.5000\n",
      "Epoch 43/100\n",
      "3/3 [==============================] - 0s 63ms/step - loss: 0.6922 - accuracy: 0.5000 - val_loss: 0.6917 - val_accuracy: 0.5000\n",
      "Epoch 44/100\n",
      "3/3 [==============================] - 0s 93ms/step - loss: 0.6921 - accuracy: 0.5000 - val_loss: 0.6915 - val_accuracy: 0.5000\n",
      "Epoch 45/100\n",
      "3/3 [==============================] - 0s 96ms/step - loss: 0.6919 - accuracy: 0.5000 - val_loss: 0.6914 - val_accuracy: 0.5000\n",
      "Epoch 46/100\n",
      "3/3 [==============================] - 0s 78ms/step - loss: 0.6919 - accuracy: 0.5000 - val_loss: 0.6912 - val_accuracy: 0.5000\n",
      "Epoch 47/100\n",
      "3/3 [==============================] - 0s 56ms/step - loss: 0.6917 - accuracy: 0.5000 - val_loss: 0.6910 - val_accuracy: 0.5000\n",
      "Epoch 48/100\n",
      "3/3 [==============================] - 0s 43ms/step - loss: 0.6916 - accuracy: 0.5000 - val_loss: 0.6908 - val_accuracy: 0.5000\n",
      "Epoch 49/100\n",
      "3/3 [==============================] - 0s 54ms/step - loss: 0.6914 - accuracy: 0.5000 - val_loss: 0.6906 - val_accuracy: 0.5000\n",
      "Epoch 50/100\n",
      "3/3 [==============================] - 0s 37ms/step - loss: 0.6914 - accuracy: 0.5000 - val_loss: 0.6904 - val_accuracy: 0.5000\n",
      "Epoch 51/100\n",
      "3/3 [==============================] - 0s 44ms/step - loss: 0.6913 - accuracy: 0.5000 - val_loss: 0.6903 - val_accuracy: 0.5000\n",
      "Epoch 52/100\n",
      "3/3 [==============================] - 0s 39ms/step - loss: 0.6909 - accuracy: 0.5000 - val_loss: 0.6900 - val_accuracy: 0.5000\n",
      "Epoch 53/100\n",
      "3/3 [==============================] - 0s 38ms/step - loss: 0.6908 - accuracy: 0.5000 - val_loss: 0.6897 - val_accuracy: 0.5000\n",
      "Epoch 54/100\n",
      "3/3 [==============================] - 0s 43ms/step - loss: 0.6906 - accuracy: 0.5000 - val_loss: 0.6894 - val_accuracy: 0.5000\n",
      "Epoch 55/100\n",
      "3/3 [==============================] - 0s 50ms/step - loss: 0.6905 - accuracy: 0.5000 - val_loss: 0.6891 - val_accuracy: 0.5000\n",
      "Epoch 56/100\n",
      "3/3 [==============================] - 0s 36ms/step - loss: 0.6902 - accuracy: 0.5000 - val_loss: 0.6889 - val_accuracy: 0.5000\n",
      "Epoch 57/100\n",
      "3/3 [==============================] - 0s 37ms/step - loss: 0.6901 - accuracy: 0.5000 - val_loss: 0.6886 - val_accuracy: 0.5000\n",
      "Epoch 58/100\n",
      "3/3 [==============================] - 0s 54ms/step - loss: 0.6899 - accuracy: 0.5000 - val_loss: 0.6883 - val_accuracy: 0.5000\n",
      "Epoch 59/100\n",
      "3/3 [==============================] - 0s 71ms/step - loss: 0.6896 - accuracy: 0.5000 - val_loss: 0.6881 - val_accuracy: 0.5000\n",
      "Epoch 60/100\n",
      "3/3 [==============================] - 0s 83ms/step - loss: 0.6895 - accuracy: 0.5000 - val_loss: 0.6878 - val_accuracy: 0.5000\n",
      "Epoch 61/100\n",
      "3/3 [==============================] - 0s 45ms/step - loss: 0.6892 - accuracy: 0.5000 - val_loss: 0.6875 - val_accuracy: 0.5000\n",
      "Epoch 62/100\n",
      "3/3 [==============================] - 0s 44ms/step - loss: 0.6891 - accuracy: 0.5000 - val_loss: 0.6873 - val_accuracy: 0.5000\n",
      "Epoch 63/100\n",
      "3/3 [==============================] - 0s 36ms/step - loss: 0.6888 - accuracy: 0.5000 - val_loss: 0.6869 - val_accuracy: 0.5000\n",
      "Epoch 64/100\n",
      "3/3 [==============================] - 0s 46ms/step - loss: 0.6886 - accuracy: 0.5000 - val_loss: 0.6866 - val_accuracy: 0.5000\n",
      "Epoch 65/100\n",
      "3/3 [==============================] - 0s 77ms/step - loss: 0.6883 - accuracy: 0.5000 - val_loss: 0.6862 - val_accuracy: 0.5000\n",
      "Epoch 66/100\n",
      "3/3 [==============================] - 0s 52ms/step - loss: 0.6880 - accuracy: 0.5000 - val_loss: 0.6858 - val_accuracy: 0.5000\n",
      "Epoch 67/100\n",
      "3/3 [==============================] - 0s 49ms/step - loss: 0.6878 - accuracy: 0.5000 - val_loss: 0.6855 - val_accuracy: 0.5000\n",
      "Epoch 68/100\n",
      "3/3 [==============================] - 0s 44ms/step - loss: 0.6875 - accuracy: 0.5000 - val_loss: 0.6851 - val_accuracy: 0.5000\n",
      "Epoch 69/100\n",
      "3/3 [==============================] - 0s 53ms/step - loss: 0.6872 - accuracy: 0.5000 - val_loss: 0.6847 - val_accuracy: 0.5000\n",
      "Epoch 70/100\n",
      "3/3 [==============================] - 0s 59ms/step - loss: 0.6870 - accuracy: 0.5000 - val_loss: 0.6842 - val_accuracy: 0.5000\n",
      "Epoch 71/100\n",
      "3/3 [==============================] - 0s 70ms/step - loss: 0.6869 - accuracy: 0.5000 - val_loss: 0.6837 - val_accuracy: 0.5000\n",
      "Epoch 72/100\n",
      "3/3 [==============================] - 0s 72ms/step - loss: 0.6862 - accuracy: 0.5000 - val_loss: 0.6833 - val_accuracy: 0.5000\n",
      "Epoch 73/100\n",
      "3/3 [==============================] - 0s 76ms/step - loss: 0.6860 - accuracy: 0.5000 - val_loss: 0.6829 - val_accuracy: 0.5000\n",
      "Epoch 74/100\n",
      "3/3 [==============================] - 0s 59ms/step - loss: 0.6856 - accuracy: 0.5000 - val_loss: 0.6825 - val_accuracy: 0.5000\n",
      "Epoch 75/100\n",
      "3/3 [==============================] - 0s 42ms/step - loss: 0.6853 - accuracy: 0.5000 - val_loss: 0.6820 - val_accuracy: 0.5000\n",
      "Epoch 76/100\n",
      "3/3 [==============================] - 0s 38ms/step - loss: 0.6850 - accuracy: 0.5000 - val_loss: 0.6816 - val_accuracy: 0.5000\n",
      "Epoch 77/100\n",
      "3/3 [==============================] - 0s 38ms/step - loss: 0.6847 - accuracy: 0.5000 - val_loss: 0.6811 - val_accuracy: 0.5000\n",
      "Epoch 78/100\n",
      "3/3 [==============================] - 0s 58ms/step - loss: 0.6843 - accuracy: 0.5000 - val_loss: 0.6806 - val_accuracy: 0.5000\n",
      "Epoch 79/100\n",
      "3/3 [==============================] - 0s 54ms/step - loss: 0.6839 - accuracy: 0.5000 - val_loss: 0.6801 - val_accuracy: 0.5000\n",
      "Epoch 80/100\n",
      "3/3 [==============================] - 0s 40ms/step - loss: 0.6835 - accuracy: 0.5000 - val_loss: 0.6796 - val_accuracy: 0.5000\n",
      "Epoch 81/100\n",
      "3/3 [==============================] - 0s 37ms/step - loss: 0.6832 - accuracy: 0.5000 - val_loss: 0.6789 - val_accuracy: 0.5000\n",
      "Epoch 82/100\n",
      "3/3 [==============================] - 0s 59ms/step - loss: 0.6827 - accuracy: 0.5000 - val_loss: 0.6784 - val_accuracy: 0.5000\n",
      "Epoch 83/100\n",
      "3/3 [==============================] - 0s 63ms/step - loss: 0.6824 - accuracy: 0.5000 - val_loss: 0.6779 - val_accuracy: 0.5000\n",
      "Epoch 84/100\n",
      "3/3 [==============================] - 0s 50ms/step - loss: 0.6819 - accuracy: 0.5000 - val_loss: 0.6773 - val_accuracy: 0.5000\n",
      "Epoch 85/100\n",
      "3/3 [==============================] - 0s 73ms/step - loss: 0.6815 - accuracy: 0.5000 - val_loss: 0.6767 - val_accuracy: 0.5000\n",
      "Epoch 86/100\n",
      "3/3 [==============================] - 0s 57ms/step - loss: 0.6811 - accuracy: 0.5000 - val_loss: 0.6761 - val_accuracy: 0.5000\n",
      "Epoch 87/100\n",
      "3/3 [==============================] - 0s 41ms/step - loss: 0.6807 - accuracy: 0.5000 - val_loss: 0.6755 - val_accuracy: 0.5000\n",
      "Epoch 88/100\n",
      "3/3 [==============================] - 0s 58ms/step - loss: 0.6802 - accuracy: 0.5000 - val_loss: 0.6749 - val_accuracy: 0.5000\n",
      "Epoch 89/100\n",
      "3/3 [==============================] - 0s 33ms/step - loss: 0.6800 - accuracy: 0.5000 - val_loss: 0.6742 - val_accuracy: 0.5000\n",
      "Epoch 90/100\n",
      "3/3 [==============================] - 0s 42ms/step - loss: 0.6793 - accuracy: 0.5000 - val_loss: 0.6735 - val_accuracy: 0.5000\n",
      "Epoch 91/100\n",
      "3/3 [==============================] - 0s 37ms/step - loss: 0.6789 - accuracy: 0.5000 - val_loss: 0.6729 - val_accuracy: 0.5000\n",
      "Epoch 92/100\n",
      "3/3 [==============================] - 0s 26ms/step - loss: 0.6783 - accuracy: 0.5000 - val_loss: 0.6723 - val_accuracy: 0.5000\n",
      "Epoch 93/100\n",
      "3/3 [==============================] - 0s 40ms/step - loss: 0.6779 - accuracy: 0.5000 - val_loss: 0.6717 - val_accuracy: 0.5000\n",
      "Epoch 94/100\n",
      "3/3 [==============================] - 0s 42ms/step - loss: 0.6774 - accuracy: 0.5000 - val_loss: 0.6710 - val_accuracy: 0.5000\n",
      "Epoch 95/100\n",
      "3/3 [==============================] - 0s 51ms/step - loss: 0.6769 - accuracy: 0.5000 - val_loss: 0.6703 - val_accuracy: 0.5000\n",
      "Epoch 96/100\n",
      "3/3 [==============================] - 0s 55ms/step - loss: 0.6766 - accuracy: 0.5000 - val_loss: 0.6696 - val_accuracy: 0.5000\n",
      "Epoch 97/100\n",
      "3/3 [==============================] - 0s 43ms/step - loss: 0.6759 - accuracy: 0.5000 - val_loss: 0.6689 - val_accuracy: 0.5000\n",
      "Epoch 98/100\n",
      "3/3 [==============================] - 0s 60ms/step - loss: 0.6754 - accuracy: 0.5000 - val_loss: 0.6681 - val_accuracy: 0.5000\n",
      "Epoch 99/100\n",
      "3/3 [==============================] - 0s 49ms/step - loss: 0.6748 - accuracy: 0.5000 - val_loss: 0.6674 - val_accuracy: 0.5000\n",
      "Epoch 100/100\n",
      "3/3 [==============================] - 0s 85ms/step - loss: 0.6743 - accuracy: 0.5000 - val_loss: 0.6667 - val_accuracy: 0.5000\n"
     ]
    }
   ],
   "source": [
    "history = model.fit(X,y,epochs=100,validation_split=0.2)"
   ]
  },
  {
   "cell_type": "code",
   "execution_count": 15,
   "metadata": {
    "colab": {
     "base_uri": "https://localhost:8080/"
    },
    "id": "3ZuxISsp0l6z",
    "outputId": "54f76ab7-d61b-4dc8-eab0-a2f92e847ef2"
   },
   "outputs": [
    {
     "data": {
      "text/plain": [
       "[array([[-0.44641623, -0.44641623, -0.44641623, -0.44641623, -0.44641623,\n",
       "         -0.44641623, -0.44641623, -0.44641623, -0.44641623, -0.44641623],\n",
       "        [ 0.4619444 ,  0.4619444 ,  0.4619444 ,  0.4619444 ,  0.4619444 ,\n",
       "          0.4619444 ,  0.4619444 ,  0.4619444 ,  0.4619444 ,  0.4619444 ]],\n",
       "       dtype=float32),\n",
       " array([-0.09471191, -0.09471191, -0.09471191, -0.09471191, -0.09471191,\n",
       "        -0.09471191, -0.09471191, -0.09471191, -0.09471191, -0.09471191],\n",
       "       dtype=float32),\n",
       " array([[-0.05861094],\n",
       "        [-0.05861094],\n",
       "        [-0.05861094],\n",
       "        [-0.05861094],\n",
       "        [-0.05861094],\n",
       "        [-0.05861094],\n",
       "        [-0.05861094],\n",
       "        [-0.05861094],\n",
       "        [-0.05861094],\n",
       "        [-0.05861094]], dtype=float32),\n",
       " array([0.0607213], dtype=float32)]"
      ]
     },
     "execution_count": 15,
     "metadata": {},
     "output_type": "execute_result"
    }
   ],
   "source": [
    "model.get_weights()"
   ]
  },
  {
   "cell_type": "code",
   "execution_count": 16,
   "metadata": {
    "colab": {
     "base_uri": "https://localhost:8080/",
     "height": 465
    },
    "id": "MsRHCzNp0n86",
    "outputId": "1b275446-d973-4b82-fa8a-51738eca249c"
   },
   "outputs": [
    {
     "name": "stdout",
     "output_type": "stream",
     "text": [
      "9600/9600 [==============================] - 20s 2ms/step\n"
     ]
    },
    {
     "data": {
      "text/plain": [
       "<Axes: >"
      ]
     },
     "execution_count": 16,
     "metadata": {},
     "output_type": "execute_result"
    },
    {
     "data": {
      "image/png": "[encoded data removed]",
      "text/plain": [
       "<Figure size 640x480 with 1 Axes>"
      ]
     },
     "metadata": {},
     "output_type": "display_data"
    }
   ],
   "source": [
    "from mlxtend.plotting import plot_decision_regions\n",
    "plot_decision_regions(X,y.astype('int'), clf=model, legend=2)"
   ]
  },
  {
   "cell_type": "code",
   "execution_count": 19,
   "metadata": {
    "id": "1JeXTiQK0uOp"
   },
   "outputs": [],
   "source": []
  }
 ],
 "metadata": {
  "accelerator": "GPU",
  "colab": {
   "gpuType": "T4",
   "provenance": []
  },
  "kernelspec": {
   "display_name": "Python 3 (ipykernel)",
   "language": "python",
   "name": "python3"
  },
  "language_info": {
   "codemirror_mode": {
    "name": "ipython",
    "version": 3
   },
   "file_extension": ".py",
   "mimetype": "text/x-python",
   "name": "python",
   "nbconvert_exporter": "python",
   "pygments_lexer": "ipython3",
   "version": "3.11.7"
  }
 },
 "nbformat": 4,
 "nbformat_minor": 4
}
